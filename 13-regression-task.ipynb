{
 "cells": [
  {
   "cell_type": "markdown",
   "id": "faaa8ad5",
   "metadata": {},
   "source": [
    "# ✈ Flight Price Prediction using Regression"
   ]
  },
  {
   "cell_type": "markdown",
   "id": "04eb16ee",
   "metadata": {},
   "source": [
    "Dataset : https://www.kaggle.com/datasets/shubhambathwal/flight-price-prediction"
   ]
  },
  {
   "cell_type": "markdown",
   "id": "460fb649",
   "metadata": {},
   "source": [
    "Analyst : Titan Bagus Bramantyo (https://linkendin.com/in/titanbr)"
   ]
  },
  {
   "cell_type": "markdown",
   "id": "751110e5",
   "metadata": {},
   "source": [
    "#### ✅ Import library"
   ]
  },
  {
   "cell_type": "code",
   "execution_count": 2,
   "id": "6b47c56a",
   "metadata": {},
   "outputs": [],
   "source": [
    "import pandas as pd\n",
    "import numpy as np\n",
    "import matplotlib.pyplot as plt\n",
    "import seaborn as sns"
   ]
  },
  {
   "cell_type": "markdown",
   "id": "2384b609",
   "metadata": {},
   "source": [
    "#### ✅ Load dataset"
   ]
  },
  {
   "cell_type": "code",
   "execution_count": 3,
   "id": "6147d2e7",
   "metadata": {},
   "outputs": [
    {
     "data": {
      "text/html": [
       "<div>\n",
       "<style scoped>\n",
       "    .dataframe tbody tr th:only-of-type {\n",
       "        vertical-align: middle;\n",
       "    }\n",
       "\n",
       "    .dataframe tbody tr th {\n",
       "        vertical-align: top;\n",
       "    }\n",
       "\n",
       "    .dataframe thead th {\n",
       "        text-align: right;\n",
       "    }\n",
       "</style>\n",
       "<table border=\"1\" class=\"dataframe\">\n",
       "  <thead>\n",
       "    <tr style=\"text-align: right;\">\n",
       "      <th></th>\n",
       "      <th>airline</th>\n",
       "      <th>flight</th>\n",
       "      <th>source_city</th>\n",
       "      <th>departure_time</th>\n",
       "      <th>stops</th>\n",
       "      <th>arrival_time</th>\n",
       "      <th>destination_city</th>\n",
       "      <th>class</th>\n",
       "      <th>duration</th>\n",
       "      <th>days_left</th>\n",
       "      <th>price</th>\n",
       "    </tr>\n",
       "  </thead>\n",
       "  <tbody>\n",
       "    <tr>\n",
       "      <th>300148</th>\n",
       "      <td>Vistara</td>\n",
       "      <td>UK-822</td>\n",
       "      <td>Chennai</td>\n",
       "      <td>Morning</td>\n",
       "      <td>one</td>\n",
       "      <td>Evening</td>\n",
       "      <td>Hyderabad</td>\n",
       "      <td>Business</td>\n",
       "      <td>10.08</td>\n",
       "      <td>49</td>\n",
       "      <td>69265</td>\n",
       "    </tr>\n",
       "    <tr>\n",
       "      <th>300149</th>\n",
       "      <td>Vistara</td>\n",
       "      <td>UK-826</td>\n",
       "      <td>Chennai</td>\n",
       "      <td>Afternoon</td>\n",
       "      <td>one</td>\n",
       "      <td>Night</td>\n",
       "      <td>Hyderabad</td>\n",
       "      <td>Business</td>\n",
       "      <td>10.42</td>\n",
       "      <td>49</td>\n",
       "      <td>77105</td>\n",
       "    </tr>\n",
       "    <tr>\n",
       "      <th>300150</th>\n",
       "      <td>Vistara</td>\n",
       "      <td>UK-832</td>\n",
       "      <td>Chennai</td>\n",
       "      <td>Early_Morning</td>\n",
       "      <td>one</td>\n",
       "      <td>Night</td>\n",
       "      <td>Hyderabad</td>\n",
       "      <td>Business</td>\n",
       "      <td>13.83</td>\n",
       "      <td>49</td>\n",
       "      <td>79099</td>\n",
       "    </tr>\n",
       "    <tr>\n",
       "      <th>300151</th>\n",
       "      <td>Vistara</td>\n",
       "      <td>UK-828</td>\n",
       "      <td>Chennai</td>\n",
       "      <td>Early_Morning</td>\n",
       "      <td>one</td>\n",
       "      <td>Evening</td>\n",
       "      <td>Hyderabad</td>\n",
       "      <td>Business</td>\n",
       "      <td>10.00</td>\n",
       "      <td>49</td>\n",
       "      <td>81585</td>\n",
       "    </tr>\n",
       "    <tr>\n",
       "      <th>300152</th>\n",
       "      <td>Vistara</td>\n",
       "      <td>UK-822</td>\n",
       "      <td>Chennai</td>\n",
       "      <td>Morning</td>\n",
       "      <td>one</td>\n",
       "      <td>Evening</td>\n",
       "      <td>Hyderabad</td>\n",
       "      <td>Business</td>\n",
       "      <td>10.08</td>\n",
       "      <td>49</td>\n",
       "      <td>81585</td>\n",
       "    </tr>\n",
       "  </tbody>\n",
       "</table>\n",
       "</div>"
      ],
      "text/plain": [
       "        airline  flight source_city departure_time stops arrival_time  \\\n",
       "300148  Vistara  UK-822     Chennai        Morning   one      Evening   \n",
       "300149  Vistara  UK-826     Chennai      Afternoon   one        Night   \n",
       "300150  Vistara  UK-832     Chennai  Early_Morning   one        Night   \n",
       "300151  Vistara  UK-828     Chennai  Early_Morning   one      Evening   \n",
       "300152  Vistara  UK-822     Chennai        Morning   one      Evening   \n",
       "\n",
       "       destination_city     class  duration  days_left  price  \n",
       "300148        Hyderabad  Business     10.08         49  69265  \n",
       "300149        Hyderabad  Business     10.42         49  77105  \n",
       "300150        Hyderabad  Business     13.83         49  79099  \n",
       "300151        Hyderabad  Business     10.00         49  81585  \n",
       "300152        Hyderabad  Business     10.08         49  81585  "
      ]
     },
     "execution_count": 3,
     "metadata": {},
     "output_type": "execute_result"
    }
   ],
   "source": [
    "dataset = pd.read_csv('flight_price.csv',sep=',')\n",
    "dataset.tail()"
   ]
  },
  {
   "cell_type": "markdown",
   "id": "81f51355",
   "metadata": {},
   "source": [
    "**FEATURE**.\n",
    "1. Airline: The name of the airline company is stored in the airline column. It is a categorical feature having 6 different airlines.\n",
    "2. Flight: Flight stores information regarding the plane's flight code. It is a categorical feature.\n",
    "3. Source City: City from which the flight takes off. It is a categorical feature having 6 unique cities.\n",
    "4. Departure Time: This is a derived categorical feature obtained created by grouping time periods into bins. It stores information about the departure time and have 6 unique time labels.\n",
    "5. Stops: A categorical feature with 3 distinct values that stores the number of stops between the source and destination cities.\n",
    "6. Arrival Time: This is a derived categorical feature created by grouping time intervals into bins. It has six distinct time labels and keeps information about the arrival time.\n",
    "7. Destination City: City where the flight will land. It is a categorical feature having 6 unique cities.\n",
    "8. Class: A categorical feature that contains information on seat class; it has two distinct values: Business and Economy.\n",
    "9. Duration: A continuous feature that displays the overall amount of time it takes to travel between cities in hours.\n",
    "10. Days Left: This is a derived characteristic that is calculated by subtracting the trip date by the booking date.\n",
    "11. Price: Target variable stores information of the ticket price."
   ]
  },
  {
   "cell_type": "markdown",
   "id": "a1e65dcb",
   "metadata": {},
   "source": [
    "#### ✅ Delete unnecessary column"
   ]
  },
  {
   "cell_type": "code",
   "execution_count": 4,
   "id": "ec4e6bd0",
   "metadata": {},
   "outputs": [
    {
     "data": {
      "text/html": [
       "<div>\n",
       "<style scoped>\n",
       "    .dataframe tbody tr th:only-of-type {\n",
       "        vertical-align: middle;\n",
       "    }\n",
       "\n",
       "    .dataframe tbody tr th {\n",
       "        vertical-align: top;\n",
       "    }\n",
       "\n",
       "    .dataframe thead th {\n",
       "        text-align: right;\n",
       "    }\n",
       "</style>\n",
       "<table border=\"1\" class=\"dataframe\">\n",
       "  <thead>\n",
       "    <tr style=\"text-align: right;\">\n",
       "      <th></th>\n",
       "      <th>airline</th>\n",
       "      <th>source_city</th>\n",
       "      <th>departure_time</th>\n",
       "      <th>stops</th>\n",
       "      <th>arrival_time</th>\n",
       "      <th>destination_city</th>\n",
       "      <th>class</th>\n",
       "      <th>duration</th>\n",
       "      <th>price</th>\n",
       "    </tr>\n",
       "  </thead>\n",
       "  <tbody>\n",
       "    <tr>\n",
       "      <th>300148</th>\n",
       "      <td>Vistara</td>\n",
       "      <td>Chennai</td>\n",
       "      <td>Morning</td>\n",
       "      <td>one</td>\n",
       "      <td>Evening</td>\n",
       "      <td>Hyderabad</td>\n",
       "      <td>Business</td>\n",
       "      <td>10.08</td>\n",
       "      <td>69265</td>\n",
       "    </tr>\n",
       "    <tr>\n",
       "      <th>300149</th>\n",
       "      <td>Vistara</td>\n",
       "      <td>Chennai</td>\n",
       "      <td>Afternoon</td>\n",
       "      <td>one</td>\n",
       "      <td>Night</td>\n",
       "      <td>Hyderabad</td>\n",
       "      <td>Business</td>\n",
       "      <td>10.42</td>\n",
       "      <td>77105</td>\n",
       "    </tr>\n",
       "    <tr>\n",
       "      <th>300150</th>\n",
       "      <td>Vistara</td>\n",
       "      <td>Chennai</td>\n",
       "      <td>Early_Morning</td>\n",
       "      <td>one</td>\n",
       "      <td>Night</td>\n",
       "      <td>Hyderabad</td>\n",
       "      <td>Business</td>\n",
       "      <td>13.83</td>\n",
       "      <td>79099</td>\n",
       "    </tr>\n",
       "    <tr>\n",
       "      <th>300151</th>\n",
       "      <td>Vistara</td>\n",
       "      <td>Chennai</td>\n",
       "      <td>Early_Morning</td>\n",
       "      <td>one</td>\n",
       "      <td>Evening</td>\n",
       "      <td>Hyderabad</td>\n",
       "      <td>Business</td>\n",
       "      <td>10.00</td>\n",
       "      <td>81585</td>\n",
       "    </tr>\n",
       "    <tr>\n",
       "      <th>300152</th>\n",
       "      <td>Vistara</td>\n",
       "      <td>Chennai</td>\n",
       "      <td>Morning</td>\n",
       "      <td>one</td>\n",
       "      <td>Evening</td>\n",
       "      <td>Hyderabad</td>\n",
       "      <td>Business</td>\n",
       "      <td>10.08</td>\n",
       "      <td>81585</td>\n",
       "    </tr>\n",
       "  </tbody>\n",
       "</table>\n",
       "</div>"
      ],
      "text/plain": [
       "        airline source_city departure_time stops arrival_time  \\\n",
       "300148  Vistara     Chennai        Morning   one      Evening   \n",
       "300149  Vistara     Chennai      Afternoon   one        Night   \n",
       "300150  Vistara     Chennai  Early_Morning   one        Night   \n",
       "300151  Vistara     Chennai  Early_Morning   one      Evening   \n",
       "300152  Vistara     Chennai        Morning   one      Evening   \n",
       "\n",
       "       destination_city     class  duration  price  \n",
       "300148        Hyderabad  Business     10.08  69265  \n",
       "300149        Hyderabad  Business     10.42  77105  \n",
       "300150        Hyderabad  Business     13.83  79099  \n",
       "300151        Hyderabad  Business     10.00  81585  \n",
       "300152        Hyderabad  Business     10.08  81585  "
      ]
     },
     "execution_count": 4,
     "metadata": {},
     "output_type": "execute_result"
    }
   ],
   "source": [
    "dataset = dataset.drop(columns=['flight','days_left'])\n",
    "dataset.tail()"
   ]
  },
  {
   "cell_type": "markdown",
   "id": "aef18f9a",
   "metadata": {},
   "source": [
    "#### ✅ Reduce records number"
   ]
  },
  {
   "cell_type": "code",
   "execution_count": null,
   "id": "129a7af0",
   "metadata": {},
   "outputs": [],
   "source": []
  },
  {
   "cell_type": "markdown",
   "id": "07a596ef",
   "metadata": {},
   "source": [
    "#### ✅ Label encoding"
   ]
  },
  {
   "cell_type": "markdown",
   "id": "451e158a",
   "metadata": {},
   "source": [
    "We need to do label encoding because we want to do PCA process which is not supports string datatype"
   ]
  },
  {
   "cell_type": "code",
   "execution_count": 5,
   "id": "74542db1",
   "metadata": {},
   "outputs": [
    {
     "name": "stdout",
     "output_type": "stream",
     "text": [
      "{'AirAsia': 0, 'Air_India': 1, 'GO_FIRST': 2, 'Indigo': 3, 'SpiceJet': 4, 'Vistara': 5}\n"
     ]
    }
   ],
   "source": [
    "from sklearn import preprocessing as pre\n",
    "\n",
    "# Airline Encoding\n",
    "le = pre.LabelEncoder()\n",
    "le.fit(dataset['airline'])\n",
    "dataset['airline'] = le.transform(dataset['airline'])\n",
    "airline_labels = dict(zip(le.classes_, le.transform(le.classes_)))\n",
    "print(airline_labels)"
   ]
  },
  {
   "cell_type": "code",
   "execution_count": 6,
   "id": "06e45b22",
   "metadata": {},
   "outputs": [
    {
     "name": "stdout",
     "output_type": "stream",
     "text": [
      "{'Bangalore': 0, 'Chennai': 1, 'Delhi': 2, 'Hyderabad': 3, 'Kolkata': 4, 'Mumbai': 5}\n"
     ]
    }
   ],
   "source": [
    "# source_city\n",
    "le.fit(dataset['source_city'])\n",
    "dataset['source_city'] = le.transform(dataset['source_city'])\n",
    "source_labels = dict(zip(le.classes_, le.transform(le.classes_)))\n",
    "print(source_labels)"
   ]
  },
  {
   "cell_type": "code",
   "execution_count": 7,
   "id": "e1ca75f0",
   "metadata": {},
   "outputs": [
    {
     "name": "stdout",
     "output_type": "stream",
     "text": [
      "{'one': 0, 'two_or_more': 1, 'zero': 2}\n"
     ]
    }
   ],
   "source": [
    "# stops\n",
    "le.fit(dataset['stops'])\n",
    "dataset['stops'] = le.transform(dataset['stops'])\n",
    "stops_labels = dict(zip(le.classes_, le.transform(le.classes_)))\n",
    "print(stops_labels)"
   ]
  },
  {
   "cell_type": "code",
   "execution_count": 8,
   "id": "9338cf24",
   "metadata": {},
   "outputs": [
    {
     "name": "stdout",
     "output_type": "stream",
     "text": [
      "{'Afternoon': 0, 'Early_Morning': 1, 'Evening': 2, 'Late_Night': 3, 'Morning': 4, 'Night': 5}\n"
     ]
    }
   ],
   "source": [
    "# departure time\n",
    "le.fit(dataset['departure_time'])\n",
    "dataset['departure_time'] = le.transform(dataset['departure_time'])\n",
    "deptime_labels = dict(zip(le.classes_, le.transform(le.classes_)))\n",
    "print(deptime_labels)"
   ]
  },
  {
   "cell_type": "code",
   "execution_count": 9,
   "id": "c8fafa30",
   "metadata": {},
   "outputs": [
    {
     "name": "stdout",
     "output_type": "stream",
     "text": [
      "{'Afternoon': 0, 'Early_Morning': 1, 'Evening': 2, 'Late_Night': 3, 'Morning': 4, 'Night': 5}\n"
     ]
    }
   ],
   "source": [
    "# arrival time\n",
    "le.fit(dataset['arrival_time'])\n",
    "dataset['arrival_time'] = le.transform(dataset['arrival_time'])\n",
    "arrtime_labels = dict(zip(le.classes_, le.transform(le.classes_)))\n",
    "print(arrtime_labels)"
   ]
  },
  {
   "cell_type": "code",
   "execution_count": 10,
   "id": "f3fb6ee1",
   "metadata": {},
   "outputs": [
    {
     "name": "stdout",
     "output_type": "stream",
     "text": [
      "{'Bangalore': 0, 'Chennai': 1, 'Delhi': 2, 'Hyderabad': 3, 'Kolkata': 4, 'Mumbai': 5}\n"
     ]
    }
   ],
   "source": [
    "# destination city\n",
    "le.fit(dataset['destination_city'])\n",
    "dataset['destination_city'] = le.transform(dataset['destination_city'])\n",
    "des_labels = dict(zip(le.classes_, le.transform(le.classes_)))\n",
    "print(des_labels)"
   ]
  },
  {
   "cell_type": "code",
   "execution_count": 11,
   "id": "2cd0dc3b",
   "metadata": {},
   "outputs": [
    {
     "name": "stdout",
     "output_type": "stream",
     "text": [
      "{'Business': 0, 'Economy': 1}\n"
     ]
    }
   ],
   "source": [
    "# class seat\n",
    "le.fit(dataset['class'])\n",
    "dataset['class'] = le.transform(dataset['class'])\n",
    "class_labels = dict(zip(le.classes_, le.transform(le.classes_)))\n",
    "print(class_labels)"
   ]
  },
  {
   "cell_type": "markdown",
   "id": "0df9671e",
   "metadata": {},
   "source": [
    "#### ✅ Separating variable and target"
   ]
  },
  {
   "cell_type": "code",
   "execution_count": 52,
   "id": "ed857534",
   "metadata": {},
   "outputs": [
    {
     "name": "stdout",
     "output_type": "stream",
     "text": [
      "        airline  source_city  departure_time  stops  arrival_time  \\\n",
      "0             4            2               2      2             5   \n",
      "1             4            2               1      2             4   \n",
      "2             0            2               1      2             1   \n",
      "3             5            2               4      2             0   \n",
      "4             5            2               4      2             4   \n",
      "...         ...          ...             ...    ...           ...   \n",
      "300148        5            1               4      0             2   \n",
      "300149        5            1               0      0             5   \n",
      "300150        5            1               1      0             5   \n",
      "300151        5            1               1      0             2   \n",
      "300152        5            1               4      0             2   \n",
      "\n",
      "        destination_city  class  duration  \n",
      "0                      5      1      2.17  \n",
      "1                      5      1      2.33  \n",
      "2                      5      1      2.17  \n",
      "3                      5      1      2.25  \n",
      "4                      5      1      2.33  \n",
      "...                  ...    ...       ...  \n",
      "300148                 3      0     10.08  \n",
      "300149                 3      0     10.42  \n",
      "300150                 3      0     13.83  \n",
      "300151                 3      0     10.00  \n",
      "300152                 3      0     10.08  \n",
      "\n",
      "[300153 rows x 8 columns]\n",
      "0         2\n",
      "1         2\n",
      "2         2\n",
      "3         2\n",
      "4         2\n",
      "         ..\n",
      "300148    1\n",
      "300149    1\n",
      "300150    1\n",
      "300151    1\n",
      "300152    1\n",
      "Name: source_city, Length: 300153, dtype: int32\n"
     ]
    },
    {
     "data": {
      "text/plain": [
       "<bound method NDFrame.head of         airline  source_city  departure_time  stops  arrival_time  \\\n",
       "0             4            2               2      2             5   \n",
       "1             4            2               1      2             4   \n",
       "2             0            2               1      2             1   \n",
       "3             5            2               4      2             0   \n",
       "4             5            2               4      2             4   \n",
       "...         ...          ...             ...    ...           ...   \n",
       "300148        5            1               4      0             2   \n",
       "300149        5            1               0      0             5   \n",
       "300150        5            1               1      0             5   \n",
       "300151        5            1               1      0             2   \n",
       "300152        5            1               4      0             2   \n",
       "\n",
       "        destination_city  class  duration  price  \n",
       "0                      5      1      2.17   5953  \n",
       "1                      5      1      2.33   5953  \n",
       "2                      5      1      2.17   5956  \n",
       "3                      5      1      2.25   5955  \n",
       "4                      5      1      2.33   5955  \n",
       "...                  ...    ...       ...    ...  \n",
       "300148                 3      0     10.08  69265  \n",
       "300149                 3      0     10.42  77105  \n",
       "300150                 3      0     13.83  79099  \n",
       "300151                 3      0     10.00  81585  \n",
       "300152                 3      0     10.08  81585  \n",
       "\n",
       "[300153 rows x 9 columns]>"
      ]
     },
     "execution_count": 52,
     "metadata": {},
     "output_type": "execute_result"
    }
   ],
   "source": [
    "X = dataset.iloc[:,:-1]\n",
    "Y = dataset.iloc[:,1]\n",
    "print(X)\n",
    "print(Y)\n",
    "\n",
    "dataframe = pd.DataFrame(dataset)\n",
    "dataframe.head"
   ]
  },
  {
   "cell_type": "markdown",
   "id": "9a565844",
   "metadata": {},
   "source": [
    "#### ✅ PCA process"
   ]
  },
  {
   "cell_type": "code",
   "execution_count": 53,
   "id": "a2594e1a",
   "metadata": {},
   "outputs": [],
   "source": [
    "from sklearn.decomposition import PCA"
   ]
  },
  {
   "cell_type": "code",
   "execution_count": 54,
   "id": "c473eec5",
   "metadata": {},
   "outputs": [
    {
     "data": {
      "text/html": [
       "<div>\n",
       "<style scoped>\n",
       "    .dataframe tbody tr th:only-of-type {\n",
       "        vertical-align: middle;\n",
       "    }\n",
       "\n",
       "    .dataframe tbody tr th {\n",
       "        vertical-align: top;\n",
       "    }\n",
       "\n",
       "    .dataframe thead th {\n",
       "        text-align: right;\n",
       "    }\n",
       "</style>\n",
       "<table border=\"1\" class=\"dataframe\">\n",
       "  <thead>\n",
       "    <tr style=\"text-align: right;\">\n",
       "      <th></th>\n",
       "      <th>x</th>\n",
       "      <th>y</th>\n",
       "    </tr>\n",
       "  </thead>\n",
       "  <tbody>\n",
       "    <tr>\n",
       "      <th>0</th>\n",
       "      <td>-10.122329</td>\n",
       "      <td>1.481031</td>\n",
       "    </tr>\n",
       "    <tr>\n",
       "      <th>1</th>\n",
       "      <td>-9.986488</td>\n",
       "      <td>1.682313</td>\n",
       "    </tr>\n",
       "    <tr>\n",
       "      <th>2</th>\n",
       "      <td>-10.151544</td>\n",
       "      <td>2.651835</td>\n",
       "    </tr>\n",
       "    <tr>\n",
       "      <th>3</th>\n",
       "      <td>-10.009926</td>\n",
       "      <td>2.732258</td>\n",
       "    </tr>\n",
       "    <tr>\n",
       "      <th>4</th>\n",
       "      <td>-9.921393</td>\n",
       "      <td>1.753761</td>\n",
       "    </tr>\n",
       "  </tbody>\n",
       "</table>\n",
       "</div>"
      ],
      "text/plain": [
       "           x         y\n",
       "0 -10.122329  1.481031\n",
       "1  -9.986488  1.682313\n",
       "2 -10.151544  2.651835\n",
       "3 -10.009926  2.732258\n",
       "4  -9.921393  1.753761"
      ]
     },
     "execution_count": 54,
     "metadata": {},
     "output_type": "execute_result"
    }
   ],
   "source": [
    "pca = PCA(n_components=2)\n",
    "\n",
    "fit_pca = pca.fit_transform(X)\n",
    "new_df = pd.DataFrame(data = fit_pca, columns = ['x', 'y'])\n",
    "new_df.head()"
   ]
  },
  {
   "cell_type": "markdown",
   "id": "7c6a24dd",
   "metadata": {},
   "source": [
    "#### ✅ Splitting data for training and test"
   ]
  },
  {
   "cell_type": "code",
   "execution_count": 55,
   "id": "602ab89e",
   "metadata": {},
   "outputs": [],
   "source": [
    "from sklearn.model_selection import train_test_split as trates\n",
    "X_train, X_test, Y_train, Y_test = trates(X, Y, test_size=0.2, random_state=7)"
   ]
  },
  {
   "cell_type": "markdown",
   "id": "9e56242a",
   "metadata": {},
   "source": [
    "#### ✅ Using Linear Regression"
   ]
  },
  {
   "cell_type": "code",
   "execution_count": 62,
   "id": "5d555674",
   "metadata": {},
   "outputs": [
    {
     "data": {
      "text/plain": [
       "LinearRegression()"
      ]
     },
     "execution_count": 62,
     "metadata": {},
     "output_type": "execute_result"
    }
   ],
   "source": [
    "from sklearn.linear_model import LinearRegression\n",
    "\n",
    "regressor=LinearRegression()\n",
    "regressor.fit(X_train, Y_train)"
   ]
  },
  {
   "cell_type": "markdown",
   "id": "8295a49a",
   "metadata": {},
   "source": [
    "#### ✅ Prediction data test result"
   ]
  },
  {
   "cell_type": "code",
   "execution_count": 63,
   "id": "06711f0a",
   "metadata": {},
   "outputs": [
    {
     "name": "stdout",
     "output_type": "stream",
     "text": [
      "ML model Accuracy is 100.0 %\n"
     ]
    }
   ],
   "source": [
    "y_pred = regressor.predict(X_test)\n",
    "accuracy = regressor.score(X_test,Y_test)*100\n",
    "print(\"ML model Accuracy is\",accuracy,'%')"
   ]
  },
  {
   "cell_type": "markdown",
   "id": "ed21229e",
   "metadata": {},
   "source": [
    "#### ✅ Evaluate linear regression"
   ]
  },
  {
   "cell_type": "code",
   "execution_count": 65,
   "id": "43cc0034",
   "metadata": {},
   "outputs": [
    {
     "name": "stdout",
     "output_type": "stream",
     "text": [
      "37442     2\n",
      "26706     2\n",
      "172802    3\n",
      "240001    5\n",
      "82508     5\n",
      "         ..\n",
      "210007    2\n",
      "284192    3\n",
      "104379    0\n",
      "256618    0\n",
      "84990     0\n",
      "Name: source_city, Length: 60031, dtype: int32\n",
      "[ 2.00000000e+00  2.00000000e+00  3.00000000e+00 ... -6.56967120e-13\n",
      " -6.49318578e-13 -6.39267985e-13]\n",
      "RMSE =  4.3411651916857195e-13\n",
      "r2_score:  1.0\n"
     ]
    }
   ],
   "source": [
    "from sklearn.metrics import mean_squared_error,r2_score\n",
    "from math import sqrt\n",
    "\n",
    "print(Y_test)\n",
    "print(y_pred)\n",
    "print(\"RMSE = \", sqrt(mean_squared_error(Y_test,y_pred)))\n",
    "print(\"r2_score: \",r2_score(Y_test,y_pred))"
   ]
  },
  {
   "cell_type": "markdown",
   "id": "3433bc1e",
   "metadata": {},
   "source": [
    "#### ✅ Using Support Vector Regression"
   ]
  },
  {
   "cell_type": "code",
   "execution_count": 66,
   "id": "477e39b1",
   "metadata": {},
   "outputs": [
    {
     "data": {
      "text/plain": [
       "SVR(kernel='linear')"
      ]
     },
     "execution_count": 66,
     "metadata": {},
     "output_type": "execute_result"
    }
   ],
   "source": [
    "from sklearn import svm\n",
    "\n",
    "regr = svm.SVR(kernel=\"linear\")\n",
    "regr.fit(X_train, Y_train)"
   ]
  },
  {
   "cell_type": "markdown",
   "id": "869859b4",
   "metadata": {},
   "source": [
    "#### ✅ Prediction data test result"
   ]
  },
  {
   "cell_type": "code",
   "execution_count": 68,
   "id": "ac65bc8d",
   "metadata": {},
   "outputs": [
    {
     "name": "stdout",
     "output_type": "stream",
     "text": [
      "37442     2\n",
      "26706     2\n",
      "172802    3\n",
      "240001    5\n",
      "82508     5\n",
      "         ..\n",
      "210007    2\n",
      "284192    3\n",
      "104379    0\n",
      "256618    0\n",
      "84990     0\n",
      "Name: source_city, Length: 60031, dtype: int32\n",
      "[2.02001017 2.020068   2.98015891 ... 0.09944401 0.09968661 0.10000427]\n"
     ]
    }
   ],
   "source": [
    "y_pred = regr.predict(X_test)\n",
    "\n",
    "print(Y_test)\n",
    "print(y_pred)"
   ]
  },
  {
   "cell_type": "markdown",
   "id": "9525a460",
   "metadata": {},
   "source": [
    "#### ✅ Evaluate SVR"
   ]
  },
  {
   "cell_type": "code",
   "execution_count": 71,
   "id": "295cb597",
   "metadata": {
    "scrolled": true
   },
   "outputs": [
    {
     "name": "stdout",
     "output_type": "stream",
     "text": [
      "37442     2\n",
      "26706     2\n",
      "172802    3\n",
      "240001    5\n",
      "82508     5\n",
      "         ..\n",
      "210007    2\n",
      "284192    3\n",
      "104379    0\n",
      "256618    0\n",
      "84990     0\n",
      "Name: source_city, Length: 60031, dtype: int32\n",
      "[2.02001017 2.020068   2.98015891 ... 0.09944401 0.09968661 0.10000427]\n",
      "RMSE SVR =  0.06972792687222241\n",
      "r2_score:  0.9984030719186624\n"
     ]
    }
   ],
   "source": [
    "print(Y_test)\n",
    "print(y_pred)\n",
    "\n",
    "print(\"RMSE SVR = \", sqrt(mean_squared_error(Y_test, y_pred)))\n",
    "print(\"r2_score: \",r2_score(Y_test,y_pred))"
   ]
  },
  {
   "cell_type": "markdown",
   "id": "1e97ca0a",
   "metadata": {},
   "source": [
    "#### ✅ Using KNN Regression"
   ]
  },
  {
   "cell_type": "code",
   "execution_count": 74,
   "id": "5ef150bc",
   "metadata": {},
   "outputs": [],
   "source": [
    "from sklearn import neighbors\n",
    "n_neighbors = 3\n",
    "\n",
    "knn = neighbors.KNeighborsRegressor(n_neighbors, weights=\"uniform\")\n",
    "y_pred = knn.fit(X_train, Y_train).predict(X_test)"
   ]
  },
  {
   "cell_type": "markdown",
   "id": "6c5326cb",
   "metadata": {},
   "source": [
    "#### ✅ Evaluate KNN"
   ]
  },
  {
   "cell_type": "code",
   "execution_count": 76,
   "id": "9516fddc",
   "metadata": {},
   "outputs": [
    {
     "name": "stdout",
     "output_type": "stream",
     "text": [
      "37442     2\n",
      "26706     2\n",
      "172802    3\n",
      "240001    5\n",
      "82508     5\n",
      "         ..\n",
      "210007    2\n",
      "284192    3\n",
      "104379    0\n",
      "256618    0\n",
      "84990     0\n",
      "Name: source_city, Length: 60031, dtype: int32\n",
      "[2. 2. 3. ... 0. 0. 0.]\n",
      "RMSE KNN Reg. =  0.03164386979646677\n",
      "r2_score:  0.9996711097269335\n"
     ]
    }
   ],
   "source": [
    "from sklearn.metrics import mean_squared_error\n",
    "from math import sqrt\n",
    "\n",
    "print(Y_test)\n",
    "print(y_pred)\n",
    "\n",
    "print(\"RMSE KNN Reg. = \",sqrt(mean_squared_error(Y_test, y_pred)))\n",
    "print(\"r2_score: \",r2_score(Y_test,y_pred))"
   ]
  },
  {
   "cell_type": "markdown",
   "id": "3e96e4ee",
   "metadata": {},
   "source": [
    "#### ✅ Using MLP Regression"
   ]
  },
  {
   "cell_type": "code",
   "execution_count": 77,
   "id": "4ba617b1",
   "metadata": {},
   "outputs": [],
   "source": [
    "from sklearn.neural_network import MLPRegressor\n",
    "regr = MLPRegressor(random_state=1, max_iter=5000).fit(X_train, Y_train)\n",
    "y_pred = regr.predict(X_test)"
   ]
  },
  {
   "cell_type": "markdown",
   "id": "1ae5665d",
   "metadata": {},
   "source": [
    "#### ✅ Evaluate MLP"
   ]
  },
  {
   "cell_type": "code",
   "execution_count": 79,
   "id": "af0f3188",
   "metadata": {},
   "outputs": [
    {
     "name": "stdout",
     "output_type": "stream",
     "text": [
      "37442     2\n",
      "26706     2\n",
      "172802    3\n",
      "240001    5\n",
      "82508     5\n",
      "         ..\n",
      "210007    2\n",
      "284192    3\n",
      "104379    0\n",
      "256618    0\n",
      "84990     0\n",
      "Name: source_city, Length: 60031, dtype: int32\n",
      "[2.0108242  2.02186187 3.02422002 ... 0.00533524 0.01043447 0.01832694]\n",
      "RMSE MLP Reg. =  0.015440855799478504\n",
      "r2_score:  0.9999216904756688\n"
     ]
    }
   ],
   "source": [
    "from sklearn.metrics import mean_squared_error\n",
    "from math import sqrt\n",
    "\n",
    "print(Y_test)\n",
    "print(y_pred)\n",
    "\n",
    "print(\"RMSE MLP Reg. = \",sqrt(mean_squared_error(Y_test, y_pred)))\n",
    "print(\"r2_score: \",r2_score(Y_test,y_pred))"
   ]
  },
  {
   "cell_type": "markdown",
   "id": "e9b405a5",
   "metadata": {},
   "source": [
    "## 😎 Conclusion"
   ]
  },
  {
   "cell_type": "markdown",
   "id": "ef77000d",
   "metadata": {},
   "source": [
    "_Dari hasil percobaan beberapa algoritma dalam regresi, dihasilkan nilai RMSE sebagai berikut._\n",
    "1. Linear Regression : **4.34**\n",
    "2. SVR Regression : **0.069**\n",
    "3. KNN Regression : **0.031**\n",
    "4. MLP Regression : **0.015**\n",
    "\n",
    "_Apabila nilai RMSE semakin kecil maka semakin baik. Dengan begitu algoritma **MLP Regression** adalah algoritma yang paling baik di antara ke-empat algoritma yang diuji_"
   ]
  }
 ],
 "metadata": {
  "kernelspec": {
   "display_name": "Python 3 (ipykernel)",
   "language": "python",
   "name": "python3"
  },
  "language_info": {
   "codemirror_mode": {
    "name": "ipython",
    "version": 3
   },
   "file_extension": ".py",
   "mimetype": "text/x-python",
   "name": "python",
   "nbconvert_exporter": "python",
   "pygments_lexer": "ipython3",
   "version": "3.9.7"
  }
 },
 "nbformat": 4,
 "nbformat_minor": 5
}
